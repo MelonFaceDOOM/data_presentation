{
 "cells": [
  {
   "cell_type": "markdown",
   "metadata": {
    "slideshow": {
     "slide_type": "slide"
    }
   },
   "source": [
    "# Data\n",
    "\n",
    "Data is the plural of datum, in Latin.\n",
    "\n",
    "Data is a mass noun, like water. You wouldn't quantify these types of nouns if the way you would a normal plural. You wouldn't say \"I have three water\"; you have to specify a unit. If data were simply the plural of datum, it would be natural to say something like \"there are two data that support my argument\", but nobody would ever say that. They would specify some kind of unit, like \"there are two data points that support my argument\", or \"there are two sets of data that shed light on this issue\".\n",
    "\n",
    "Agenda is a cleaner example where nobody really expects you to use it as a plural, even though agenda is the plural of agendum in Latin. It isn't \"technically\" plural. It's simply a singular noun.\n",
    "\n",
    "Same for media/medium."
   ]
  },
  {
   "cell_type": "markdown",
   "metadata": {
    "slideshow": {
     "slide_type": "slide"
    }
   },
   "source": [
    "# Idealized dataflow\n",
    "\n",
    "<div><img src=\"Idealized Dataflow.svg\"></div>\n",
    "\n",
    "- Partners enter data into central database\n",
    "- Write queries or extract data\n",
    "- Analyse in statistical software"
   ]
  },
  {
   "cell_type": "markdown",
   "metadata": {},
   "source": [
    "# Realistic dataflow\n",
    "\n",
    "<div><img src=\"Realistic Dataflow.svg\"></div>\n",
    "\n",
    "- partners enter data into their own databases\n",
    "- submit extract once a year\n",
    "- all partners submit different data sets with different methodologies"
   ]
  },
  {
   "cell_type": "markdown",
   "metadata": {},
   "source": []
  },
  {
   "cell_type": "code",
   "execution_count": null,
   "metadata": {},
   "outputs": [],
   "source": []
  }
 ],
 "metadata": {
  "celltoolbar": "Slideshow",
  "kernelspec": {
   "display_name": "Python 3",
   "language": "python",
   "name": "python3"
  },
  "language_info": {
   "codemirror_mode": {
    "name": "ipython",
    "version": 3
   },
   "file_extension": ".py",
   "mimetype": "text/x-python",
   "name": "python",
   "nbconvert_exporter": "python",
   "pygments_lexer": "ipython3",
   "version": "3.7.3"
  }
 },
 "nbformat": 4,
 "nbformat_minor": 4
}
